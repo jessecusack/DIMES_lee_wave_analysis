{
 "metadata": {
  "name": "",
  "signature": "sha256:4aeb251003a50d5e283186e1601a786be8f552c6e85b47b3a8770895011c3543"
 },
 "nbformat": 3,
 "nbformat_minor": 0,
 "worksheets": [
  {
   "cells": [
    {
     "cell_type": "markdown",
     "metadata": {},
     "source": [
      "Generation\n",
      "==========\n",
      "\n",
      "This notebook contains an analysis of the topography and flow prior to the floats passage across the Shackleton Fracture zone with the aim of putting limits on the form of wave that could be generated.\n",
      "\n",
      "Theory\n",
      "------\n",
      "\n",
      "From Vallis (2006).\n",
      "\n",
      "The dispersion relation of a wave resulting from the linearised equations of motion for flow of a ridge with rotation.\n",
      "\n",
      "\\begin{equation}\n",
      "\\omega^2 = (\\omega_0 + \\vec{k} \\cdot \\vec{U})^2 = \\frac{f_0^2 m^2 + k^2 N^2}{k^2 + m^2}\n",
      "\\end{equation}\n",
      "\n",
      "The solutions for a single wave of frequency $\\omega$ (the frequency measured by a stationary observer) with wavevector $\\vec{k} = (k, m)$.\n",
      "\n",
      "\\begin{equation}\n",
      "w = w_0 e^{i(kx + mz - \\omega t)}\n",
      "\\end{equation}\n",
      "\n",
      "When in a reference frame moving with the mean flow $U$, $\\omega = - Uk$.\n",
      "\n",
      "Characteristics of the flow\n",
      "---------------------------\n",
      "\n",
      "- $N \\approx 2.5 \\times 10^{-3}$ s$^{-1}$. (Near bottom of profiles upstream of the ridge.)\n",
      "- $U \\approx 0.4$ m s$^{-1}$. (Near bottom of profiles upstream of the ridge.)\n",
      "- $f \\approx 1.2 \\times 10^{-4}$ s$^{-1}$. (57 degrees south.)\n",
      "- $h_0 \\approx 1 \\times 10^3$ m (Ridge height.)\n",
      "- $L \\approx 1 \\times 10^5$ m (Ridge width.)\n",
      "\n",
      "$N/U \\approx 6.3 \\times 10^{-3}$ m$^{-1}$. This corresponds to a horizontal scale of $2 \\pi U/N \\approx 1 \\times 10^{3}$ m assuming that the frequency of the waves is near $N$. If this is not the case then the appropriate frequency is not $N$ but $U/L \\approx 4 \\times 10^{-5}$ s$^{-1}$ which is less than the inertial frequency and thus not allowed. (I'm not sure if there should be a factor of $2\\pi$ in there in which case the frequency of generated waves would be $\\approx 2.5 \\times 10^{-4}$ s$^{-1}$ which is close to the inertial frequency. However, given that near inertial waves mainly oscillate in the horizontal and have small vertical motions this doesn't fit well with the observations.)\n",
      "\n",
      "The Froude number $Fr = U/NH$.\n",
      "\n",
      "Is rotation important?\n",
      "----------------------\n",
      "\n",
      "The non-dimensional number that characterises the importance of rotation to a fluid dynamics problem is the Rossby number $Ro = \\frac{U}{fL}$. In our case, the length scale of the wave (and topography) $L \\approx 1 \\times 10^4 $m, $f \\approx 1 \\times 10^{-4}$ s$^{-1}$ and $U \\approx 1$ m s$^{-1}$ which makes $Ro \\approx 1$. Above I actually used an $L$ an order of magnitude greater, enhancing importance of rotation. This suggests that the effects of rotation cannot be ignored. I am not sure whether these are the approprate scales to consider since the Rossby number assumes that $W/H \\lesssim U/L$. If $W \\approx 0.05$ m s$^{-1}$ and $H \\approx 1 \\times 10^3$ m and we use instead the horizontal length scale of zonal flow then $L \\approx 1 \\times 10^5$ m so in fact $W/H$ is larger than $U/L$ and it is not clear whether the approximate inequality still holds. This is essentially saying that vertically advective terms in the governing equations are important too (assuming my choice of length scales is appropriate). I am not yet sure how this will change things but I will look into it.\n",
      "\n",
      "A quick look at $N^2$\n",
      "---------------------\n",
      "\n",
      "The frequency of internal waves is restricted to be between the intertial frequency $f$ and the buoyancy frequency $N$. The latitude of the two floats is approximately 57.5 S where $T_f \\approx\n",
      "14$ hours and the mean bouyancy period below 200m depth in the locality of the wave is $T_N \\approx 50$ mins.\n",
      "\n",
      "Analysis\n",
      "--------\n",
      "\n",
      "We start with the standard code to load float data and import useful modules for analysis."
     ]
    },
    {
     "cell_type": "code",
     "collapsed": false,
     "input": [
      "import os, sys\n",
      "lib_path = os.path.abspath('../python')\n",
      "if lib_path not in sys.path:\n",
      "    sys.path.append(lib_path)\n",
      "\n",
      "import numpy as np\n",
      "import matplotlib.pyplot as plt\n",
      "import emapex\n",
      "import gsw\n",
      "import sandwell\n",
      "import mpl_toolkits.basemap as bm\n",
      "\n",
      "%matplotlib inline\n",
      "%qtconsole\n",
      "\n",
      "reload(emapex)\n",
      "\n",
      "E76 = emapex.EMApexFloat('../../data/EM-APEX/allprofs11.mat', 4976)\n",
      "E76.apply_w_model('../../data/EM-APEX/4976_fix_p0k0M_fit_info.p')\n",
      "E76.apply_strain('../../data/EM-APEX/4976_N2_ref_300dbar.p')\n",
      "\n",
      "E77 = emapex.EMApexFloat('../../data/EM-APEX/allprofs11.mat', 4977)\n",
      "E77.apply_w_model('../../data/EM-APEX/4977_fix_p0k0M_fit_info.p')\n",
      "E77.apply_strain('../../data/EM-APEX/4977_N2_ref_300dbar.p')"
     ],
     "language": "python",
     "metadata": {},
     "outputs": [
      {
       "output_type": "stream",
       "stream": "stdout",
       "text": [
        "Initialising EM-APEX float: 4976\n",
        "Attmpting to load data...\n",
        "  Loaded: Verr1."
       ]
      },
      {
       "output_type": "stream",
       "stream": "stdout",
       "text": [
        "\n",
        "  Loaded: Verr2.\n",
        "  Loaded: lat_up.\n",
        "  Loaded: V.\n",
        "  Loaded: U1.\n",
        "  Loaded: Wp_ca.\n",
        "  Loaded: U2.\n",
        "  Loaded: lon_down.\n",
        "* Skipping: Nskip.\n",
        "  Loaded: ind.\n",
        "  Loaded: Pef.\n",
        "  Loaded: u_sfc.\n",
        "  Loaded: V2woW.\n",
        "  Loaded: magvar.\n",
        "  Loaded: gps_dist.\n",
        "  Loaded: got_gps.\n",
        "  Loaded: Wr.\n",
        "  Loaded: ssid.\n",
        "  Loaded: lat_gps.\n",
        "  Loaded: maxp.\n",
        "  Loaded: apf9_terr.\n",
        "  Loaded: botdep.\n",
        "  Loaded: utc_dep.\n",
        "  Loaded: vbsid.\n",
        "  Loaded: V2."
       ]
      },
      {
       "output_type": "stream",
       "stream": "stdout",
       "text": [
        "\n",
        "  Loaded: utc_down.\n",
        "  Loaded: v_gps.\n",
        "  Loaded: surfaced.\n",
        "  Loaded: argo_mode.\n",
        "* Skipping: __version__.\n",
        "  Loaded: V1woW.\n",
        "  Loaded: P_ca.\n",
        "  Loaded: UTC.\n",
        "  Loaded: Wf.\n",
        "  Loaded: ppos.\n",
        "  Loaded: ubs.\n",
        "  Loaded: utc_gps.\n",
        "  Loaded: UTCef.\n",
        "  Loaded: Wp.\n",
        "  Loaded: mlt_ca."
       ]
      },
      {
       "output_type": "stream",
       "stream": "stdout",
       "text": [
        "\n",
        "  Loaded: lat_down.\n",
        "  Loaded: P.\n",
        "  Loaded: S.\n",
        "  Loaded: U.\n",
        "  Loaded: T.\n",
        "  Loaded: u_gps.\n",
        "  Loaded: v_sfc.\n",
        "  Loaded: nvel.\n",
        "  Loaded: ppos_ca.\n",
        "  Loaded: depl.\n",
        "  Loaded: Vchan.\n",
        "  Loaded: utc_up.\n",
        "* Skipping: __header__.\n",
        "  Loaded: utc_rec.\n",
        "* Skipping: __globals__.\n",
        "  Loaded: vbs.\n",
        "  Loaded: V1."
       ]
      },
      {
       "output_type": "stream",
       "stream": "stderr",
       "text": [
        "/noc/users/jc3e13/anaconda/lib/python2.7/site-packages/numpy/ma/core.py:778: RuntimeWarning: invalid value encountered in greater_equal\n",
        "  return umath.absolute(a) * self.tolerance >= umath.absolute(b)\n",
        "/noc/users/jc3e13/anaconda/lib/python2.7/site-packages/numpy/ma/core.py:790: RuntimeWarning: invalid value encountered in less_equal\n",
        "  return umath.less_equal(x, self.critical_value)\n"
       ]
      },
      {
       "output_type": "stream",
       "stream": "stderr",
       "text": [
        "/noc/users/jc3e13/anaconda/lib/python2.7/site-packages/gsw/gibbs/conversions.py:60: RuntimeWarning: invalid value encountered in less\n",
        "  cond1 = ((p < 100) & (SP > 120))\n",
        "/noc/users/jc3e13/anaconda/lib/python2.7/site-packages/gsw/gibbs/conversions.py:60: RuntimeWarning: invalid value encountered in greater\n",
        "  cond1 = ((p < 100) & (SP > 120))\n",
        "/noc/users/jc3e13/anaconda/lib/python2.7/site-packages/gsw/gibbs/conversions.py:61: RuntimeWarning: invalid value encountered in greater_equal\n",
        "  cond2 = ((p >= 100) & (SP > 42))\n",
        "/noc/users/jc3e13/anaconda/lib/python2.7/site-packages/gsw/gibbs/conversions.py:61: RuntimeWarning: invalid value encountered in greater\n",
        "  cond2 = ((p >= 100) & (SP > 42))\n",
        "/noc/users/jc3e13/anaconda/lib/python2.7/site-packages/gsw/gibbs/conversions.py:428: RuntimeWarning: invalid value encountered in less\n",
        "  invalid = np.logical_and(p < 100, np.logical_or(t > 80, t < -12))\n"
       ]
      },
      {
       "output_type": "stream",
       "stream": "stderr",
       "text": [
        "/noc/users/jc3e13/anaconda/lib/python2.7/site-packages/gsw/gibbs/conversions.py:428: RuntimeWarning: invalid value encountered in greater\n",
        "  invalid = np.logical_and(p < 100, np.logical_or(t > 80, t < -12))\n",
        "/noc/users/jc3e13/anaconda/lib/python2.7/site-packages/gsw/gibbs/conversions.py:431: RuntimeWarning: invalid value encountered in greater_equal\n",
        "  invalid = np.logical_and(p >= 100, np.logical_or(t > 40, t < -12))\n",
        "/noc/users/jc3e13/anaconda/lib/python2.7/site-packages/gsw/gibbs/conversions.py:431: RuntimeWarning: invalid value encountered in greater\n",
        "  invalid = np.logical_and(p >= 100, np.logical_or(t > 40, t < -12))\n",
        "/noc/users/jc3e13/anaconda/lib/python2.7/site-packages/gsw/gibbs/conversions.py:431: RuntimeWarning: invalid value encountered in less\n",
        "  invalid = np.logical_and(p >= 100, np.logical_or(t > 40, t < -12))\n",
        "/noc/users/jc3e13/anaconda/lib/python2.7/site-packages/gsw/utilities/utilities.py:251: RuntimeWarning: invalid value encountered in less\n",
        "  SA[SA < 0] = np.ma.masked\n"
       ]
      },
      {
       "output_type": "stream",
       "stream": "stderr",
       "text": [
        "/noc/users/jc3e13/anaconda/lib/python2.7/site-packages/numpy/ma/core.py:802: RuntimeWarning: invalid value encountered in less\n",
        "  return umath.less(x, self.critical_value)\n",
        "/noc/users/jc3e13/anaconda/lib/python2.7/site-packages/gsw/gibbs/library.py:899: RuntimeWarning: invalid value encountered in greater\n",
        "  nonzero_SA = np.any(SA > 0)\n"
       ]
      },
      {
       "output_type": "stream",
       "stream": "stdout",
       "text": [
        "\n",
        "  Loaded: lon_gps.\n",
        "  Loaded: lon_up.\n",
        "All numerical data appears to have been loaded successfully.\n",
        "Interpolating GPS positions and calculating thermodynamic\n",
        "variables.\n",
        "Creating array of half profiles."
       ]
      },
      {
       "output_type": "stream",
       "stream": "stdout",
       "text": [
        "\n",
        "Interpolating some variables onto regular grids."
       ]
      },
      {
       "output_type": "stream",
       "stream": "stdout",
       "text": [
        "\n",
        "  Added: rzef."
       ]
      },
      {
       "output_type": "stream",
       "stream": "stdout",
       "text": [
        "\n",
        "  Added: rWf."
       ]
      },
      {
       "output_type": "stream",
       "stream": "stdout",
       "text": [
        "\n",
        "  Added: rV1."
       ]
      },
      {
       "output_type": "stream",
       "stream": "stdout",
       "text": [
        "\n",
        "  Added: rWr."
       ]
      },
      {
       "output_type": "stream",
       "stream": "stdout",
       "text": [
        "\n",
        "  Added: rWz."
       ]
      },
      {
       "output_type": "stream",
       "stream": "stdout",
       "text": [
        "\n",
        "  Added: rdist_ef."
       ]
      },
      {
       "output_type": "stream",
       "stream": "stdout",
       "text": [
        "\n",
        "  Added: rP."
       ]
      },
      {
       "output_type": "stream",
       "stream": "stdout",
       "text": [
        "\n",
        "  Added: rT."
       ]
      },
      {
       "output_type": "stream",
       "stream": "stdout",
       "text": [
        "\n",
        "  Added: rdist_ctd."
       ]
      },
      {
       "output_type": "stream",
       "stream": "stdout",
       "text": [
        "\n",
        "  Added: rU1."
       ]
      },
      {
       "output_type": "stream",
       "stream": "stdout",
       "text": [
        "\n",
        "  Added: rU2."
       ]
      },
      {
       "output_type": "stream",
       "stream": "stdout",
       "text": [
        "\n",
        "  Added: rrho_1."
       ]
      },
      {
       "output_type": "stream",
       "stream": "stdout",
       "text": [
        "\n",
        "  Added: rU_abs."
       ]
      },
      {
       "output_type": "stream",
       "stream": "stdout",
       "text": [
        "\n",
        "  Added: rPef."
       ]
      },
      {
       "output_type": "stream",
       "stream": "stdout",
       "text": [
        "\n",
        "  Added: rS."
       ]
      },
      {
       "output_type": "stream",
       "stream": "stdout",
       "text": [
        "\n",
        "  Added: rV2woW."
       ]
      },
      {
       "output_type": "stream",
       "stream": "stdout",
       "text": [
        "\n",
        "  Added: rV_abs."
       ]
      },
      {
       "output_type": "stream",
       "stream": "stdout",
       "text": [
        "\n",
        "  Added: rdUdz."
       ]
      },
      {
       "output_type": "stream",
       "stream": "stdout",
       "text": [
        "\n",
        "  Added: rV."
       ]
      },
      {
       "output_type": "stream",
       "stream": "stdout",
       "text": [
        "\n",
        "  Added: rN2."
       ]
      },
      {
       "output_type": "stream",
       "stream": "stdout",
       "text": [
        "\n",
        "  Added: rCT."
       ]
      },
      {
       "output_type": "stream",
       "stream": "stdout",
       "text": [
        "\n",
        "  Added: rdVdz."
       ]
      },
      {
       "output_type": "stream",
       "stream": "stdout",
       "text": [
        "\n",
        "  Added: rVchan."
       ]
      },
      {
       "output_type": "stream",
       "stream": "stdout",
       "text": [
        "\n",
        "  Added: rSA."
       ]
      },
      {
       "output_type": "stream",
       "stream": "stdout",
       "text": [
        "\n",
        "  Added: rz."
       ]
      },
      {
       "output_type": "stream",
       "stream": "stdout",
       "text": [
        "\n",
        "  Added: rVerr1."
       ]
      },
      {
       "output_type": "stream",
       "stream": "stdout",
       "text": [
        "\n",
        "  Added: rVerr2."
       ]
      },
      {
       "output_type": "stream",
       "stream": "stdout",
       "text": [
        "\n",
        "  Added: rppos."
       ]
      },
      {
       "output_type": "stream",
       "stream": "stdout",
       "text": [
        "\n",
        "  Added: rV2."
       ]
      },
      {
       "output_type": "stream",
       "stream": "stdout",
       "text": [
        "\n",
        "  Added: rppos_ctd."
       ]
      },
      {
       "output_type": "stream",
       "stream": "stdout",
       "text": [
        "\n",
        "  Added: rV1woW."
       ]
      },
      {
       "output_type": "stream",
       "stream": "stdout",
       "text": [
        "\n",
        "  Added: rUTC."
       ]
      },
      {
       "output_type": "stream",
       "stream": "stdout",
       "text": [
        "\n",
        "  Added: rUTCef."
       ]
      },
      {
       "output_type": "stream",
       "stream": "stdout",
       "text": [
        "\n",
        "  Added: rWpef."
       ]
      },
      {
       "output_type": "stream",
       "stream": "stdout",
       "text": [
        "\n",
        "  Added: rU."
       ]
      },
      {
       "output_type": "stream",
       "stream": "stdout",
       "text": [
        "\n",
        "  Added: rrho."
       ]
      },
      {
       "output_type": "stream",
       "stream": "stdout",
       "text": [
        "\n",
        "  Added: rPT."
       ]
      },
      {
       "output_type": "stream",
       "stream": "stdout",
       "text": [
        "\n",
        "Updating half profiles.\n",
        "That appears to have worked.\n"
       ]
      },
      {
       "output_type": "stream",
       "stream": "stdout",
       "text": [
        "\n",
        "Unpickling fit info.\n",
        "  Added: rWs."
       ]
      },
      {
       "output_type": "stream",
       "stream": "stdout",
       "text": [
        "\n",
        "  Added: rWw.\n",
        "Updating half profiles.\n",
        "  Added: N2_ref."
       ]
      },
      {
       "output_type": "stream",
       "stream": "stdout",
       "text": [
        "\n",
        "  Added: strain_z.\n",
        "Updating half profiles.\n",
        "  Added: rN2_ref."
       ]
      },
      {
       "output_type": "stream",
       "stream": "stdout",
       "text": [
        "\n",
        "  Added: rstrain_z."
       ]
      },
      {
       "output_type": "stream",
       "stream": "stdout",
       "text": [
        "\n",
        "Updating half profiles.\n",
        "Initialising EM-APEX float: 4977\n",
        "Attmpting to load data..."
       ]
      },
      {
       "output_type": "stream",
       "stream": "stdout",
       "text": [
        "\n",
        "  Loaded: Verr1."
       ]
      },
      {
       "output_type": "stream",
       "stream": "stdout",
       "text": [
        "\n",
        "  Loaded: Verr2.\n",
        "  Loaded: lat_up.\n",
        "  Loaded: V.\n",
        "  Loaded: U1.\n",
        "  Loaded: Wp_ca.\n",
        "  Loaded: U2.\n",
        "  Loaded: lon_down.\n",
        "* Skipping: Nskip.\n",
        "  Loaded: ind.\n",
        "  Loaded: Pef.\n",
        "  Loaded: u_sfc.\n",
        "  Loaded: V2woW.\n",
        "  Loaded: magvar.\n",
        "  Loaded: gps_dist.\n",
        "  Loaded: got_gps.\n",
        "  Loaded: Wr.\n",
        "  Loaded: ssid.\n",
        "  Loaded: lat_gps.\n",
        "  Loaded: maxp.\n",
        "  Loaded: apf9_terr.\n",
        "  Loaded: botdep.\n",
        "  Loaded: utc_dep.\n",
        "  Loaded: vbsid.\n",
        "  Loaded: V2."
       ]
      },
      {
       "output_type": "stream",
       "stream": "stdout",
       "text": [
        "\n",
        "  Loaded: utc_down.\n",
        "  Loaded: v_gps.\n",
        "  Loaded: surfaced.\n",
        "  Loaded: argo_mode.\n",
        "* Skipping: __version__.\n",
        "  Loaded: V1woW.\n",
        "  Loaded: P_ca.\n",
        "  Loaded: UTC.\n",
        "  Loaded: Wf.\n",
        "  Loaded: ppos.\n",
        "  Loaded: ubs.\n",
        "  Loaded: utc_gps.\n",
        "  Loaded: UTCef.\n",
        "  Loaded: Wp.\n",
        "  Loaded: mlt_ca."
       ]
      },
      {
       "output_type": "stream",
       "stream": "stderr",
       "text": [
        "/noc/users/jc3e13/emapex/python/vertical_velocity_model.py:187: RuntimeWarning: invalid value encountered in less\n",
        "  is_going_down = float_volume < effective_water_volume\n",
        "/noc/users/jc3e13/anaconda/lib/python2.7/site-packages/gsw/gibbs/water_column_48.py:232: RuntimeWarning: divide by zero encountered in true_divide\n",
        "  N2 = (grav_mid ** 2 / db2Pascal) * (rho_mid / dp)\n"
       ]
      },
      {
       "output_type": "stream",
       "stream": "stdout",
       "text": [
        "\n",
        "  Loaded: lat_down.\n",
        "  Loaded: P.\n",
        "  Loaded: S.\n",
        "  Loaded: U.\n",
        "  Loaded: T.\n",
        "  Loaded: u_gps.\n",
        "  Loaded: v_sfc.\n",
        "  Loaded: nvel.\n",
        "  Loaded: ppos_ca.\n",
        "  Loaded: depl.\n",
        "  Loaded: Vchan.\n",
        "  Loaded: utc_up.\n",
        "* Skipping: __header__.\n",
        "  Loaded: utc_rec.\n",
        "* Skipping: __globals__.\n",
        "  Loaded: vbs.\n",
        "  Loaded: V1.\n",
        "  Loaded: lon_gps.\n",
        "  Loaded: lon_up.\n",
        "All numerical data appears to have been loaded successfully.\n",
        "Interpolating GPS positions and calculating thermodynamic\n",
        "variables.\n",
        "Creating array of half profiles."
       ]
      },
      {
       "output_type": "stream",
       "stream": "stdout",
       "text": [
        "\n",
        "Interpolating some variables onto regular grids."
       ]
      },
      {
       "output_type": "stream",
       "stream": "stdout",
       "text": [
        "\n",
        "  Added: rzef."
       ]
      },
      {
       "output_type": "stream",
       "stream": "stdout",
       "text": [
        "\n",
        "  Added: rWf."
       ]
      },
      {
       "output_type": "stream",
       "stream": "stdout",
       "text": [
        "\n",
        "  Added: rV1."
       ]
      },
      {
       "output_type": "stream",
       "stream": "stdout",
       "text": [
        "\n",
        "  Added: rWr."
       ]
      },
      {
       "output_type": "stream",
       "stream": "stdout",
       "text": [
        "\n",
        "  Added: rWz."
       ]
      },
      {
       "output_type": "stream",
       "stream": "stdout",
       "text": [
        "\n",
        "  Added: rdist_ef."
       ]
      },
      {
       "output_type": "stream",
       "stream": "stdout",
       "text": [
        "\n",
        "  Added: rP."
       ]
      },
      {
       "output_type": "stream",
       "stream": "stdout",
       "text": [
        "\n",
        "  Added: rT."
       ]
      },
      {
       "output_type": "stream",
       "stream": "stdout",
       "text": [
        "\n",
        "  Added: rdist_ctd."
       ]
      },
      {
       "output_type": "stream",
       "stream": "stdout",
       "text": [
        "\n",
        "  Added: rU1."
       ]
      },
      {
       "output_type": "stream",
       "stream": "stdout",
       "text": [
        "\n",
        "  Added: rU2."
       ]
      },
      {
       "output_type": "stream",
       "stream": "stdout",
       "text": [
        "\n",
        "  Added: rrho_1."
       ]
      },
      {
       "output_type": "stream",
       "stream": "stdout",
       "text": [
        "\n",
        "  Added: rU_abs."
       ]
      },
      {
       "output_type": "stream",
       "stream": "stdout",
       "text": [
        "\n",
        "  Added: rPef."
       ]
      },
      {
       "output_type": "stream",
       "stream": "stdout",
       "text": [
        "\n",
        "  Added: rS."
       ]
      },
      {
       "output_type": "stream",
       "stream": "stdout",
       "text": [
        "\n",
        "  Added: rV2woW."
       ]
      },
      {
       "output_type": "stream",
       "stream": "stdout",
       "text": [
        "\n",
        "  Added: rV_abs."
       ]
      },
      {
       "output_type": "stream",
       "stream": "stdout",
       "text": [
        "\n",
        "  Added: rdUdz."
       ]
      },
      {
       "output_type": "stream",
       "stream": "stdout",
       "text": [
        "\n",
        "  Added: rV."
       ]
      },
      {
       "output_type": "stream",
       "stream": "stdout",
       "text": [
        "\n",
        "  Added: rN2."
       ]
      },
      {
       "output_type": "stream",
       "stream": "stdout",
       "text": [
        "\n",
        "  Added: rCT."
       ]
      },
      {
       "output_type": "stream",
       "stream": "stdout",
       "text": [
        "\n",
        "  Added: rdVdz."
       ]
      },
      {
       "output_type": "stream",
       "stream": "stdout",
       "text": [
        "\n",
        "  Added: rVchan."
       ]
      },
      {
       "output_type": "stream",
       "stream": "stdout",
       "text": [
        "\n",
        "  Added: rSA."
       ]
      },
      {
       "output_type": "stream",
       "stream": "stdout",
       "text": [
        "\n",
        "  Added: rz."
       ]
      },
      {
       "output_type": "stream",
       "stream": "stdout",
       "text": [
        "\n",
        "  Added: rVerr1."
       ]
      },
      {
       "output_type": "stream",
       "stream": "stdout",
       "text": [
        "\n",
        "  Added: rVerr2."
       ]
      },
      {
       "output_type": "stream",
       "stream": "stdout",
       "text": [
        "\n",
        "  Added: rppos."
       ]
      },
      {
       "output_type": "stream",
       "stream": "stdout",
       "text": [
        "\n",
        "  Added: rV2."
       ]
      },
      {
       "output_type": "stream",
       "stream": "stdout",
       "text": [
        "\n",
        "  Added: rppos_ctd."
       ]
      },
      {
       "output_type": "stream",
       "stream": "stdout",
       "text": [
        "\n",
        "  Added: rV1woW."
       ]
      },
      {
       "output_type": "stream",
       "stream": "stdout",
       "text": [
        "\n",
        "  Added: rUTC."
       ]
      },
      {
       "output_type": "stream",
       "stream": "stdout",
       "text": [
        "\n",
        "  Added: rUTCef."
       ]
      },
      {
       "output_type": "stream",
       "stream": "stdout",
       "text": [
        "\n",
        "  Added: rWpef."
       ]
      },
      {
       "output_type": "stream",
       "stream": "stdout",
       "text": [
        "\n",
        "  Added: rU."
       ]
      },
      {
       "output_type": "stream",
       "stream": "stdout",
       "text": [
        "\n",
        "  Added: rrho."
       ]
      },
      {
       "output_type": "stream",
       "stream": "stdout",
       "text": [
        "\n",
        "  Added: rPT."
       ]
      },
      {
       "output_type": "stream",
       "stream": "stdout",
       "text": [
        "\n",
        "Updating half profiles.\n",
        "That appears to have worked.\n"
       ]
      },
      {
       "output_type": "stream",
       "stream": "stdout",
       "text": [
        "\n",
        "Unpickling fit info.\n",
        "  Added: rWs.\n",
        "  Added: rWw.\n",
        "Updating half profiles."
       ]
      },
      {
       "output_type": "stream",
       "stream": "stdout",
       "text": [
        "\n",
        "  Added: N2_ref."
       ]
      },
      {
       "output_type": "stream",
       "stream": "stdout",
       "text": [
        "\n",
        "  Added: strain_z.\n",
        "Updating half profiles.\n",
        "  Added: rN2_ref."
       ]
      },
      {
       "output_type": "stream",
       "stream": "stdout",
       "text": [
        "\n",
        "  Added: rstrain_z."
       ]
      },
      {
       "output_type": "stream",
       "stream": "stdout",
       "text": [
        "\n",
        "Updating half profiles.\n"
       ]
      }
     ],
     "prompt_number": 1
    },
    {
     "cell_type": "markdown",
     "metadata": {},
     "source": [
      "Topography and float trajectories\n",
      "---------------------------------"
     ]
    },
    {
     "cell_type": "code",
     "collapsed": false,
     "input": [
      "# The wave has been isolated to the following half profiles.\n",
      "\n",
      "# Number of half profiles.\n",
      "N = 30\n",
      "N0_76 = 15\n",
      "N0_77 = 10\n",
      "hpids = np.empty((N, 2))\n",
      "hpids[:,0] = np.arange(N0_76, N0_76+N) \n",
      "hpids[:,1] = np.arange(N0_77, N0_77+N)\n",
      "\n",
      "lons = np.empty_like(hpids)\n",
      "lats = np.empty_like(hpids)\n",
      "Us = np.empty_like(hpids)\n",
      "Vs = np.empty_like(hpids)\n",
      "Ws = np.empty_like(hpids)\n",
      "\n",
      "for i, Float in enumerate([E76, E77]):\n",
      "    __, idxs = Float.get_profiles(hpids[:,i], ret_idxs=True)\n",
      "    lons[:, i] = Float.lon_gps[idxs]\n",
      "    lats[:, i] = Float.lat_gps[idxs]\n",
      "    \n",
      "    zef = Float.zef[:, idxs]\n",
      "    z = Float.z[:, idxs]\n",
      "    U = Float.U_abs[:, idxs]\n",
      "    V = Float.V_abs[:, idxs]\n",
      "    W = Float.Ww[:, idxs]\n",
      "    \n",
      "    for j, (zefpfl, zpfl, Upfl, Vpfl, Wpfl) in enumerate(zip(zef.T, z.T, U.T, V.T, W.T)):\n",
      "        Us[j, i] = np.nanmean(Upfl[(-1400 < zefpfl) & (zefpfl < -1000)])\n",
      "        Vs[j, i] = np.nanmean(Vpfl[(-1400 < zefpfl) & (zefpfl < -1000)])\n",
      "        Ws[j, i] = np.nanmax(Wpfl[zpfl < -100])\n",
      "\n",
      "llcrnrlon = np.floor(np.nanmin(lons)) - .2\n",
      "llcrnrlat = np.floor(np.nanmin(lats)) - .2\n",
      "urcrnrlon = np.ceil(np.nanmax(lons)) + .2\n",
      "urcrnrlat = np.ceil(np.nanmax(lats)) + .2\n",
      "\n",
      "lon_lat = np.array([llcrnrlon, llcrnrlat, urcrnrlon, urcrnrlat])\n",
      "\n",
      "lon_grid, lat_grid, bathy_grid = sandwell.read_grid(lon_lat)\n",
      "bathy_grid[bathy_grid > 0] = 0\n",
      "\n",
      "m = bm.Basemap(projection='tmerc', llcrnrlon=llcrnrlon,\n",
      "               llcrnrlat=llcrnrlat, urcrnrlon=urcrnrlon,\n",
      "               urcrnrlat=urcrnrlat, lon_0=0.5*(llcrnrlon+urcrnrlon),\n",
      "               lat_0=0.5*(llcrnrlat+urcrnrlat), resolution='f')\n",
      "\n",
      "plt.figure(figsize=(10, 10))\n",
      "x, y = m(lon_grid, lat_grid)\n",
      "levels = np.arange(-4000, 0, 500)\n",
      "CS = m.contour(x, y, bathy_grid, 20, cmap=plt.get_cmap('binary'), levels=levels)\n",
      "plt.clabel(CS, inline=1, fontsize=8, fmt='%1.f')\n",
      "m.fillcontinents()\n",
      "m.drawcoastlines()\n",
      "\n",
      "r = np.abs((urcrnrlon-llcrnrlon)/(urcrnrlat-llcrnrlat))\n",
      "\n",
      "if r > 1.:\n",
      "    Nm = 8\n",
      "    Np = max(3, np.round(Nm/r))\n",
      "\n",
      "elif r < 1.:\n",
      "    Np = 8\n",
      "    Nm = max(3, np.round(Nm/r))\n",
      "\n",
      "parallels = np.round(np.linspace(llcrnrlat, urcrnrlat, Np), 1)\n",
      "m.drawparallels(parallels, labels=[1, 0, 0, 0])\n",
      "meridians = np.round(np.linspace(llcrnrlon, urcrnrlon, Nm), 1)\n",
      "m.drawmeridians(meridians, labels=[0, 0, 0, 1])\n",
      "\n",
      "marker = ['o', '*']\n",
      "label = ['4976', '4977']\n",
      "for i, (lon, lat, U, V, W) in enumerate(zip(lons.T, lats.T, Us.T, Vs.T, Ws.T)):\n",
      "    x, y = m(lon, lat)\n",
      "    m.plot(x, y, marker[i], color='y', label=label[i])\n",
      "    Q = m.quiver(x, y, U, V, W, scale=6, cmap=plt.get_cmap('jet'))\n",
      "    plt.clim(0, 0.3)\n",
      "    \n",
      "plt.legend()\n",
      "qk = plt.quiverkey(Q, 0.5, 0.92, 0.5, r'0.5 m s$^{-1}$', labelpos='N')\n",
      "cbar = plt.colorbar(orientation='horizontal')\n",
      "cbar.set_label('Maximum $W$ (m s$^{-1}$)')"
     ],
     "language": "python",
     "metadata": {},
     "outputs": [
      {
       "metadata": {},
       "output_type": "display_data",
       "png": "[encoded data removed]",
       "text": [
        "<matplotlib.figure.Figure at 0x7f0ab43c57d0>"
       ]
      }
     ],
     "prompt_number": 60
    },
    {
     "cell_type": "markdown",
     "metadata": {},
     "source": [
      "In the above figure good GPS readings at the surface are marked with yellow circles and stars for floats 4976 and 4977 respectively. The arrows shows the average magnitude and direction of the horizontal velocity measured between the depths 1400 to 1000 m. The colours of the arrows denote the maximum vertical water velocity measured below 100 m. The topography is contoured in intervals of 500 m from Smith and Sandwell 1 minute database. \n",
      "\n",
      "It can be seen that horizontal velocity has a typical magnitude of 50 cm s$^{-1}$. While the largest measured vertical velocity is of order 20 cm s$^{-1}$. The largest maximums are located in the lee of the Shackleton Fracture Zone ridge. "
     ]
    },
    {
     "cell_type": "code",
     "collapsed": false,
     "input": [],
     "language": "python",
     "metadata": {},
     "outputs": []
    }
   ],
   "metadata": {}
  }
 ]
}