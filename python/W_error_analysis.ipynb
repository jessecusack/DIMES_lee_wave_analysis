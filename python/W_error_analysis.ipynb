{
 "metadata": {
  "name": "",
  "signature": "sha256:22215953e96f552dc9546ae181050f80ff52a7dc92ad6c490c45bea121dccb66"
 },
 "nbformat": 3,
 "nbformat_minor": 0,
 "worksheets": [
  {
   "cells": [
    {
     "cell_type": "markdown",
     "metadata": {},
     "source": [
      "$W_w$ error analysis\n",
      "====================\n",
      "\n",
      "Having estimated the vertical water velocity $W_w$ using an optimised float buoyancy model I now attempt to quantify the error on the estimates.\n",
      "\n",
      "Approaches\n",
      "----------\n",
      "\n",
      "James: \"There will likely be a peak around $N$ (which will be broad because of the range of stratification values in the profile but probably is real internal wave signal). If you see a white spectrum of level $P$ at higher frequencies up to the Nyquist ($f_{Ny}$), the RMS $W_w$ noise estimate is $\\sqrt{P f_{Ny}}$.\"\n",
      "\n",
      "Alberto: \"... look at vertical wavenumber spectra of $W_w$ and compare them with the Garrett-Munk model of the internal wave field. We should see that above some characteristic high wavenumber noise dominates our signal, and estimate the $W_w$ magnitude typically associated with wavenumbers  higher than that from the integrated $W_w$ variance in that part of the spectrum.\"\n",
      "\n",
      "Setup\n",
      "-----\n",
      "\n",
      "The data for floats 4976 and 4977 is loaded along with some useful modules for signal processing. The vertical water velocity is calculated using previously optimised model parameters and the adiabatically levelled buoyancy (using 300db bin) is also loaded."
     ]
    },
    {
     "cell_type": "code",
     "collapsed": false,
     "input": [
      "import scipy.signal as sig\n",
      "import scipy.optimize as op\n",
      "import matplotlib.pyplot as plt\n",
      "import pylab as pyl\n",
      "import numpy as np\n",
      "import emapex\n",
      "import pickle\n",
      "\n",
      "\n",
      "try:\n",
      "\n",
      "    print(\"Floats {} and {}.\".format(E76.floatID, E77.floatID))\n",
      "\n",
      "except NameError:\n",
      "    \n",
      "    reload(emapex)\n",
      "\n",
      "    E76 = emapex.EMApexFloat('../../data/EM-APEX/allprofs11.mat', 4976)\n",
      "    E76.apply_w_model('../../data/EM-APEX/4976_fix_p0k0M_fit_info.p')\n",
      "\n",
      "    E77 = emapex.EMApexFloat('../../data/EM-APEX/allprofs11.mat', 4977)\n",
      "    E77.apply_w_model('../../data/EM-APEX/4977_fix_p0k0M_fit_info.p')\n",
      "\n",
      "    for Float, fstr in zip([E76, E77], ['76', '77']):\n",
      "        with open('../../data/EM-APEX/49'+fstr+'_N2_ref_300dbar.p', 'rb') as f:\n",
      "            N2_ref = pickle.load(f)\n",
      "            setattr(Float, 'N2_ref', N2_ref)\n",
      "            setattr(Float, 'strain_z', (Float.N2 - N2_ref)/N2_ref)\n",
      "            Float.update_profiles()\n"
     ],
     "language": "python",
     "metadata": {},
     "outputs": [
      {
       "output_type": "stream",
       "stream": "stdout",
       "text": [
        "Floats 4976 and 4977.\n"
       ]
      }
     ],
     "prompt_number": 3
    },
    {
     "cell_type": "markdown",
     "metadata": {},
     "source": [
      "Lets look at some $W_w$ spectra."
     ]
    },
    {
     "cell_type": "code",
     "collapsed": false,
     "input": [],
     "language": "python",
     "metadata": {},
     "outputs": []
    }
   ],
   "metadata": {}
  }
 ]
}