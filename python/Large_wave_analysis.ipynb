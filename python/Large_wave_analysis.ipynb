{
 "metadata": {
  "name": "",
  "signature": "sha256:788e749c9bc1502e072d218c12c68f71944c4ff3307f20baa73da084530f77b6"
 },
 "nbformat": 3,
 "nbformat_minor": 0,
 "worksheets": [
  {
   "cells": [
    {
     "cell_type": "markdown",
     "metadata": {},
     "source": [
      "Introduction\n",
      "============\n",
      "\n",
      "The purpose of this notebook is to perform some general analysis of EM-APEX data around the time that exceptionally large verical velocities were measured. \n",
      "\n",
      "Setup\n",
      "-----\n",
      "\n",
      "I import some useful modules, load the EM-APEX data for floats 4976 and 4977 and calculate vertical velocities using model parameters which have already been optimised. This produces rather a lot of output which is not worth reading."
     ]
    },
    {
     "cell_type": "code",
     "collapsed": false,
     "input": [
      "%matplotlib inline\n",
      "\n",
      "import numpy as np\n",
      "import matplotlib.pyplot as plt\n",
      "import scipy as sp\n",
      "import plotting_functions as pf\n",
      "import gsw\n",
      "import emapex\n",
      "\n",
      "E76 = emapex.EMApexFloat('../../data/EM-APEX/allprofs11.mat', 4976)\n",
      "E76.apply_w_model('../../data/EM-APEX/4976_fix_p0k0M_fit_info.p')\n",
      "\n",
      "E77 = emapex.EMApexFloat('../../data/EM-APEX/allprofs11.mat', 4977)\n",
      "E77.apply_w_model('../../data/EM-APEX/4977_fix_p0k0M_fit_info.p')"
     ],
     "language": "python",
     "metadata": {},
     "outputs": [
      {
       "output_type": "stream",
       "stream": "stdout",
       "text": [
        "Initialising EM-APEX float: 4976\n",
        "Attmpting to load data...\n",
        "  Loaded: Verr1."
       ]
      },
      {
       "output_type": "stream",
       "stream": "stdout",
       "text": [
        "\n",
        "  Loaded: Verr2.\n",
        "  Loaded: lat_up.\n",
        "  Loaded: V.\n",
        "  Loaded: U1.\n",
        "  Loaded: Wp_ca.\n",
        "  Loaded: U2.\n",
        "  Loaded: lon_down.\n",
        "* Skipping: Nskip.\n",
        "  Loaded: ind.\n",
        "  Loaded: Pef.\n",
        "  Loaded: u_sfc.\n",
        "  Loaded: V2woW.\n",
        "  Loaded: magvar.\n",
        "  Loaded: gps_dist.\n",
        "  Loaded: got_gps.\n",
        "  Loaded: Wr.\n",
        "  Loaded: ssid.\n",
        "  Loaded: lat_gps.\n",
        "  Loaded: maxp.\n",
        "  Loaded: apf9_terr.\n",
        "  Loaded: botdep.\n",
        "  Loaded: utc_dep.\n",
        "  Loaded: vbsid.\n",
        "  Loaded: V2."
       ]
      },
      {
       "output_type": "stream",
       "stream": "stdout",
       "text": [
        "\n",
        "  Loaded: utc_down.\n",
        "  Loaded: v_gps.\n",
        "  Loaded: surfaced.\n",
        "  Loaded: argo_mode.\n",
        "* Skipping: __version__.\n",
        "  Loaded: V1woW.\n",
        "  Loaded: P_ca.\n",
        "  Loaded: UTC.\n",
        "  Loaded: Wf.\n",
        "  Loaded: ppos.\n",
        "  Loaded: ubs.\n",
        "  Loaded: utc_gps.\n",
        "  Loaded: UTCef.\n",
        "  Loaded: Wp.\n",
        "  Loaded: mlt_ca."
       ]
      },
      {
       "output_type": "stream",
       "stream": "stdout",
       "text": [
        "\n",
        "  Loaded: lat_down.\n",
        "  Loaded: P.\n",
        "  Loaded: S.\n",
        "  Loaded: U.\n",
        "  Loaded: T.\n",
        "  Loaded: u_gps.\n",
        "  Loaded: v_sfc.\n",
        "  Loaded: nvel.\n",
        "  Loaded: ppos_ca.\n",
        "  Loaded: depl.\n",
        "  Loaded: Vchan.\n",
        "  Loaded: utc_up.\n",
        "* Skipping: __header__.\n",
        "  Loaded: utc_rec.\n",
        "* Skipping: __globals__.\n",
        "  Loaded: vbs.\n",
        "  Loaded: V1.\n",
        "  Loaded: lon_gps.\n",
        "  Loaded: lon_up.\n",
        "All numerical data appears to have been loaded successfully.\n",
        "Interpolating GPS positions and calculating thermodynamic\n",
        "variables.\n",
        "Creating array of half profiles."
       ]
      },
      {
       "output_type": "stream",
       "stream": "stdout",
       "text": [
        "\n",
        "Interpolating some variables onto regular grids."
       ]
      },
      {
       "output_type": "stream",
       "stream": "stdout",
       "text": [
        "\n",
        "  Added: rzef."
       ]
      },
      {
       "output_type": "stream",
       "stream": "stdout",
       "text": [
        "\n",
        "  Added: rWf."
       ]
      },
      {
       "output_type": "stream",
       "stream": "stdout",
       "text": [
        "\n",
        "  Added: rV1."
       ]
      },
      {
       "output_type": "stream",
       "stream": "stdout",
       "text": [
        "\n",
        "  Added: rWr."
       ]
      },
      {
       "output_type": "stream",
       "stream": "stdout",
       "text": [
        "\n",
        "  Added: rWz."
       ]
      },
      {
       "output_type": "stream",
       "stream": "stdout",
       "text": [
        "\n",
        "  Added: rdVdz."
       ]
      },
      {
       "output_type": "stream",
       "stream": "stdout",
       "text": [
        "\n",
        "  Added: rP."
       ]
      },
      {
       "output_type": "stream",
       "stream": "stdout",
       "text": [
        "\n",
        "  Added: rT."
       ]
      },
      {
       "output_type": "stream",
       "stream": "stdout",
       "text": [
        "\n",
        "  Added: rU1."
       ]
      },
      {
       "output_type": "stream",
       "stream": "stdout",
       "text": [
        "\n",
        "  Added: rU2."
       ]
      },
      {
       "output_type": "stream",
       "stream": "stdout",
       "text": [
        "\n",
        "  Added: rrho_1."
       ]
      },
      {
       "output_type": "stream",
       "stream": "stdout",
       "text": [
        "\n",
        "  Added: rU_abs."
       ]
      },
      {
       "output_type": "stream",
       "stream": "stdout",
       "text": [
        "\n",
        "  Added: rPef."
       ]
      },
      {
       "output_type": "stream",
       "stream": "stdout",
       "text": [
        "\n",
        "  Added: rS."
       ]
      },
      {
       "output_type": "stream",
       "stream": "stdout",
       "text": [
        "\n",
        "  Added: rV2woW."
       ]
      },
      {
       "output_type": "stream",
       "stream": "stdout",
       "text": [
        "\n",
        "  Added: rV_abs."
       ]
      },
      {
       "output_type": "stream",
       "stream": "stdout",
       "text": [
        "\n",
        "  Added: rdUdz."
       ]
      },
      {
       "output_type": "stream",
       "stream": "stdout",
       "text": [
        "\n",
        "  Added: rV."
       ]
      },
      {
       "output_type": "stream",
       "stream": "stdout",
       "text": [
        "\n",
        "  Added: rN2."
       ]
      },
      {
       "output_type": "stream",
       "stream": "stdout",
       "text": [
        "\n",
        "  Added: rCT."
       ]
      },
      {
       "output_type": "stream",
       "stream": "stdout",
       "text": [
        "\n",
        "  Added: rdist_ctd_data."
       ]
      },
      {
       "output_type": "stream",
       "stream": "stdout",
       "text": [
        "\n",
        "  Added: rVchan."
       ]
      },
      {
       "output_type": "stream",
       "stream": "stdout",
       "text": [
        "\n",
        "  Added: rSA."
       ]
      },
      {
       "output_type": "stream",
       "stream": "stdout",
       "text": [
        "\n",
        "  Added: rz."
       ]
      },
      {
       "output_type": "stream",
       "stream": "stdout",
       "text": [
        "\n",
        "  Added: rVerr1."
       ]
      },
      {
       "output_type": "stream",
       "stream": "stdout",
       "text": [
        "\n",
        "  Added: rVerr2."
       ]
      },
      {
       "output_type": "stream",
       "stream": "stdout",
       "text": [
        "\n",
        "  Added: rppos."
       ]
      },
      {
       "output_type": "stream",
       "stream": "stdout",
       "text": [
        "\n",
        "  Added: rV2."
       ]
      },
      {
       "output_type": "stream",
       "stream": "stdout",
       "text": [
        "\n",
        "  Added: rV1woW."
       ]
      },
      {
       "output_type": "stream",
       "stream": "stdout",
       "text": [
        "\n",
        "  Added: rUTC."
       ]
      },
      {
       "output_type": "stream",
       "stream": "stdout",
       "text": [
        "\n",
        "  Added: rUTCef."
       ]
      },
      {
       "output_type": "stream",
       "stream": "stdout",
       "text": [
        "\n",
        "  Added: rWpef."
       ]
      },
      {
       "output_type": "stream",
       "stream": "stdout",
       "text": [
        "\n",
        "  Added: rU."
       ]
      },
      {
       "output_type": "stream",
       "stream": "stdout",
       "text": [
        "\n",
        "  Added: rrho."
       ]
      },
      {
       "output_type": "stream",
       "stream": "stdout",
       "text": [
        "\n",
        "  Added: rPT."
       ]
      },
      {
       "output_type": "stream",
       "stream": "stdout",
       "text": [
        "\n",
        "Updating half profiles.\n",
        "That appears to have worked.\n"
       ]
      },
      {
       "output_type": "stream",
       "stream": "stdout",
       "text": [
        "\n",
        "Unpickling fit info.\n",
        "Updating half profiles.\n",
        "Initialising EM-APEX float: 4977\n",
        "Attmpting to load data..."
       ]
      },
      {
       "output_type": "stream",
       "stream": "stdout",
       "text": [
        "\n",
        "  Loaded: Verr1."
       ]
      },
      {
       "output_type": "stream",
       "stream": "stdout",
       "text": [
        "\n",
        "  Loaded: Verr2.\n",
        "  Loaded: lat_up.\n",
        "  Loaded: V.\n",
        "  Loaded: U1.\n",
        "  Loaded: Wp_ca.\n",
        "  Loaded: U2.\n",
        "  Loaded: lon_down.\n",
        "* Skipping: Nskip.\n",
        "  Loaded: ind.\n",
        "  Loaded: Pef.\n",
        "  Loaded: u_sfc.\n",
        "  Loaded: V2woW."
       ]
      },
      {
       "output_type": "stream",
       "stream": "stdout",
       "text": [
        "\n",
        "  Loaded: magvar.\n",
        "  Loaded: gps_dist.\n",
        "  Loaded: got_gps.\n",
        "  Loaded: Wr.\n",
        "  Loaded: ssid.\n",
        "  Loaded: lat_gps.\n",
        "  Loaded: maxp.\n",
        "  Loaded: apf9_terr.\n",
        "  Loaded: botdep.\n",
        "  Loaded: utc_dep.\n",
        "  Loaded: vbsid.\n",
        "  Loaded: V2.\n",
        "  Loaded: utc_down.\n",
        "  Loaded: v_gps.\n",
        "  Loaded: surfaced.\n",
        "  Loaded: argo_mode.\n",
        "* Skipping: __version__.\n",
        "  Loaded: V1woW.\n",
        "  Loaded: P_ca.\n",
        "  Loaded: UTC.\n",
        "  Loaded: Wf.\n",
        "  Loaded: ppos.\n",
        "  Loaded: ubs.\n",
        "  Loaded: utc_gps.\n",
        "  Loaded: UTCef."
       ]
      },
      {
       "output_type": "stream",
       "stream": "stdout",
       "text": [
        "\n",
        "  Loaded: Wp.\n",
        "  Loaded: mlt_ca.\n",
        "  Loaded: lat_down.\n",
        "  Loaded: P.\n",
        "  Loaded: S.\n",
        "  Loaded: U.\n",
        "  Loaded: T.\n",
        "  Loaded: u_gps.\n",
        "  Loaded: v_sfc.\n",
        "  Loaded: nvel.\n",
        "  Loaded: ppos_ca."
       ]
      },
      {
       "output_type": "stream",
       "stream": "stdout",
       "text": [
        "\n",
        "  Loaded: depl.\n",
        "  Loaded: Vchan.\n",
        "  Loaded: utc_up.\n",
        "* Skipping: __header__.\n",
        "  Loaded: utc_rec.\n",
        "* Skipping: __globals__.\n",
        "  Loaded: vbs.\n",
        "  Loaded: V1.\n",
        "  Loaded: lon_gps.\n",
        "  Loaded: lon_up.\n",
        "All numerical data appears to have been loaded successfully.\n",
        "Interpolating GPS positions and calculating thermodynamic\n",
        "variables.\n",
        "Creating array of half profiles."
       ]
      },
      {
       "output_type": "stream",
       "stream": "stdout",
       "text": [
        "\n",
        "Interpolating some variables onto regular grids."
       ]
      },
      {
       "output_type": "stream",
       "stream": "stdout",
       "text": [
        "\n",
        "  Added: rzef."
       ]
      },
      {
       "output_type": "stream",
       "stream": "stdout",
       "text": [
        "\n",
        "  Added: rWf."
       ]
      },
      {
       "output_type": "stream",
       "stream": "stdout",
       "text": [
        "\n",
        "  Added: rV1."
       ]
      },
      {
       "output_type": "stream",
       "stream": "stdout",
       "text": [
        "\n",
        "  Added: rWr."
       ]
      },
      {
       "output_type": "stream",
       "stream": "stdout",
       "text": [
        "\n",
        "  Added: rWz."
       ]
      },
      {
       "output_type": "stream",
       "stream": "stdout",
       "text": [
        "\n",
        "  Added: rdVdz."
       ]
      },
      {
       "output_type": "stream",
       "stream": "stdout",
       "text": [
        "\n",
        "  Added: rP."
       ]
      },
      {
       "output_type": "stream",
       "stream": "stdout",
       "text": [
        "\n",
        "  Added: rT."
       ]
      },
      {
       "output_type": "stream",
       "stream": "stdout",
       "text": [
        "\n",
        "  Added: rU1."
       ]
      },
      {
       "output_type": "stream",
       "stream": "stdout",
       "text": [
        "\n",
        "  Added: rU2."
       ]
      },
      {
       "output_type": "stream",
       "stream": "stdout",
       "text": [
        "\n",
        "  Added: rrho_1."
       ]
      },
      {
       "output_type": "stream",
       "stream": "stdout",
       "text": [
        "\n",
        "  Added: rU_abs."
       ]
      },
      {
       "output_type": "stream",
       "stream": "stdout",
       "text": [
        "\n",
        "  Added: rPef."
       ]
      },
      {
       "output_type": "stream",
       "stream": "stdout",
       "text": [
        "\n",
        "  Added: rS."
       ]
      },
      {
       "output_type": "stream",
       "stream": "stdout",
       "text": [
        "\n",
        "  Added: rV2woW."
       ]
      },
      {
       "output_type": "stream",
       "stream": "stdout",
       "text": [
        "\n",
        "  Added: rV_abs."
       ]
      },
      {
       "output_type": "stream",
       "stream": "stdout",
       "text": [
        "\n",
        "  Added: rdUdz."
       ]
      },
      {
       "output_type": "stream",
       "stream": "stdout",
       "text": [
        "\n",
        "  Added: rV."
       ]
      },
      {
       "output_type": "stream",
       "stream": "stdout",
       "text": [
        "\n",
        "  Added: rN2."
       ]
      },
      {
       "output_type": "stream",
       "stream": "stdout",
       "text": [
        "\n",
        "  Added: rCT."
       ]
      },
      {
       "output_type": "stream",
       "stream": "stdout",
       "text": [
        "\n",
        "  Added: rdist_ctd_data."
       ]
      },
      {
       "output_type": "stream",
       "stream": "stdout",
       "text": [
        "\n",
        "  Added: rVchan."
       ]
      },
      {
       "output_type": "stream",
       "stream": "stdout",
       "text": [
        "\n",
        "  Added: rSA."
       ]
      },
      {
       "output_type": "stream",
       "stream": "stdout",
       "text": [
        "\n",
        "  Added: rz."
       ]
      },
      {
       "output_type": "stream",
       "stream": "stdout",
       "text": [
        "\n",
        "  Added: rVerr1."
       ]
      },
      {
       "output_type": "stream",
       "stream": "stdout",
       "text": [
        "\n",
        "  Added: rVerr2."
       ]
      },
      {
       "output_type": "stream",
       "stream": "stdout",
       "text": [
        "\n",
        "  Added: rppos."
       ]
      },
      {
       "output_type": "stream",
       "stream": "stdout",
       "text": [
        "\n",
        "  Added: rV2."
       ]
      },
      {
       "output_type": "stream",
       "stream": "stdout",
       "text": [
        "\n",
        "  Added: rV1woW."
       ]
      },
      {
       "output_type": "stream",
       "stream": "stdout",
       "text": [
        "\n",
        "  Added: rUTC."
       ]
      },
      {
       "output_type": "stream",
       "stream": "stdout",
       "text": [
        "\n",
        "  Added: rUTCef."
       ]
      },
      {
       "output_type": "stream",
       "stream": "stdout",
       "text": [
        "\n",
        "  Added: rWpef."
       ]
      },
      {
       "output_type": "stream",
       "stream": "stdout",
       "text": [
        "\n",
        "  Added: rU."
       ]
      },
      {
       "output_type": "stream",
       "stream": "stdout",
       "text": [
        "\n",
        "  Added: rrho."
       ]
      },
      {
       "output_type": "stream",
       "stream": "stdout",
       "text": [
        "\n",
        "  Added: rPT."
       ]
      },
      {
       "output_type": "stream",
       "stream": "stdout",
       "text": [
        "\n",
        "Updating half profiles.\n",
        "That appears to have worked.\n"
       ]
      },
      {
       "output_type": "stream",
       "stream": "stdout",
       "text": [
        "\n",
        "Unpickling fit info.\n",
        "Updating half profiles.\n"
       ]
      }
     ],
     "prompt_number": 7
    },
    {
     "cell_type": "code",
     "collapsed": false,
     "input": [],
     "language": "python",
     "metadata": {},
     "outputs": []
    }
   ],
   "metadata": {}
  }
 ]
}