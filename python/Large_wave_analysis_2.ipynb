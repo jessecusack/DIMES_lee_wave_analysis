{
 "metadata": {
  "name": "",
  "signature": "sha256:db8c6a0900495494704a6dc108ad2a0634b9a5019af0bb1bfa27f123bc289291"
 },
 "nbformat": 3,
 "nbformat_minor": 0,
 "worksheets": [
  {
   "cells": [
    {
     "cell_type": "markdown",
     "metadata": {},
     "source": [
      "The previous workbook was getting too large so here is the overspill.\n",
      "\n",
      "Introduction\n",
      "------------\n",
      "\n",
      "Large, oscillatory vertical velocities have been observed in the vicinity of an ocean ridge. This notebook contains the more detailed analysis of the phenomena such as trying to determine the frequency, wavenumbers.\n",
      "\n",
      "Theory\n",
      "------\n",
      "\n",
      "From Vallis (2006).\n",
      "\n",
      "The dispersion relation of a wave resulting from the linearised equations of motion for flow of a ridge with rotation.\n",
      "\n",
      "\\begin{equation}\n",
      "\\omega^2 = \\frac{f_0^2 m^2 + k^2 N^2}{k^2 + m^2}\n",
      "\\end{equation}\n",
      "\n",
      "The solutions for a single wave of frequency $\\omega$ with wavevector $\\vec{k} = (k, m)$.\n",
      "\n",
      "\\begin{equation}\n",
      "w = w_0 e^{i(kx + mz - \\omega t)}\n",
      "\\end{equation}\n",
      "\n",
      "Method\n",
      "------\n",
      "\n",
      "This is less of a method and more of a summary of advice from Alberto and David on lines of attack.\n",
      "\n",
      "The vertical wavenumber $m$:\n",
      "- Attempt to fit a plane wave to profiles.\n",
      "- Attempt to fit a plane wave with $\\omega$, $k$ and $m$ as parameters.\n",
      "- Compare the phase of fits to two adjacent profiles which should relate as $\\Delta \\phi = k \\Delta x + \\omega \\Delta t$.\n",
      "- Displacement of isopycnals provides another relation $i \\omega h_0 + U i k h_0 = w$ if $h \\propto e^{i(kx - \\omega t)}$."
     ]
    },
    {
     "cell_type": "code",
     "collapsed": false,
     "input": [],
     "language": "python",
     "metadata": {},
     "outputs": []
    }
   ],
   "metadata": {}
  }
 ]
}