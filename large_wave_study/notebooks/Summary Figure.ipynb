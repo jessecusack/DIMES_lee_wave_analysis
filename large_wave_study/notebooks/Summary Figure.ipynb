{
 "cells": [
  {
   "cell_type": "markdown",
   "metadata": {},
   "source": [
    "Load all the modules and data."
   ]
  },
  {
   "cell_type": "code",
   "execution_count": 1,
   "metadata": {
    "collapsed": false
   },
   "outputs": [
    {
     "name": "stdout",
     "output_type": "stream",
     "text": [
      "\n",
      "Initialising\n",
      "------------\n",
      "\n",
      "EM-APEX float: 4977\n",
      "Loading data...\n",
      "All numerical data appears to have been loaded successfully.\n",
      "\n",
      "Creating array of half profiles.\n",
      "\n",
      "\n",
      "Post processing\n",
      "---------------\n",
      "\n"
     ]
    },
    {
     "name": "stderr",
     "output_type": "stream",
     "text": [
      "/nerc/packages/anaconda/4.1.0/lib/python2.7/site-packages/numpy/ma/core.py:790: RuntimeWarning: invalid value encountered in greater_equal\n",
      "  return umath.absolute(a) * self.tolerance >= umath.absolute(b)\n",
      "/nerc/packages/anaconda/4.1.0/lib/python2.7/site-packages/numpy/ma/core.py:802: RuntimeWarning: invalid value encountered in less_equal\n",
      "  return umath.less_equal(x, self.critical_value)\n"
     ]
    },
    {
     "name": "stdout",
     "output_type": "stream",
     "text": [
      "Estimating absolute velocity and subsurface position.\n"
     ]
    },
    {
     "name": "stderr",
     "output_type": "stream",
     "text": [
      "/nerc/packages/anaconda/4.1.0/lib/python2.7/site-packages/gsw/gibbs/conversions.py:60: RuntimeWarning: invalid value encountered in less\n",
      "  cond1 = ((p < 100) & (SP > 120))\n",
      "/nerc/packages/anaconda/4.1.0/lib/python2.7/site-packages/gsw/gibbs/conversions.py:60: RuntimeWarning: invalid value encountered in greater\n",
      "  cond1 = ((p < 100) & (SP > 120))\n",
      "/nerc/packages/anaconda/4.1.0/lib/python2.7/site-packages/gsw/gibbs/conversions.py:61: RuntimeWarning: invalid value encountered in greater_equal\n",
      "  cond2 = ((p >= 100) & (SP > 42))\n",
      "/nerc/packages/anaconda/4.1.0/lib/python2.7/site-packages/gsw/gibbs/conversions.py:61: RuntimeWarning: invalid value encountered in greater\n",
      "  cond2 = ((p >= 100) & (SP > 42))\n",
      "/nerc/packages/anaconda/4.1.0/lib/python2.7/site-packages/gsw/gibbs/conversions.py:428: RuntimeWarning: invalid value encountered in less\n",
      "  invalid = np.logical_and(p < 100, np.logical_or(t > 80, t < -12))\n",
      "/nerc/packages/anaconda/4.1.0/lib/python2.7/site-packages/gsw/gibbs/conversions.py:428: RuntimeWarning: invalid value encountered in greater\n",
      "  invalid = np.logical_and(p < 100, np.logical_or(t > 80, t < -12))\n",
      "/nerc/packages/anaconda/4.1.0/lib/python2.7/site-packages/gsw/gibbs/conversions.py:431: RuntimeWarning: invalid value encountered in greater_equal\n",
      "  invalid = np.logical_and(p >= 100, np.logical_or(t > 40, t < -12))\n",
      "/nerc/packages/anaconda/4.1.0/lib/python2.7/site-packages/gsw/gibbs/conversions.py:431: RuntimeWarning: invalid value encountered in greater\n",
      "  invalid = np.logical_and(p >= 100, np.logical_or(t > 40, t < -12))\n",
      "/nerc/packages/anaconda/4.1.0/lib/python2.7/site-packages/gsw/gibbs/conversions.py:431: RuntimeWarning: invalid value encountered in less\n",
      "  invalid = np.logical_and(p >= 100, np.logical_or(t > 40, t < -12))\n",
      "/nerc/packages/anaconda/4.1.0/lib/python2.7/site-packages/gsw/utilities/utilities.py:251: RuntimeWarning: invalid value encountered in less\n",
      "  SA[SA < 0] = np.ma.masked\n",
      "/nerc/packages/anaconda/4.1.0/lib/python2.7/site-packages/numpy/ma/core.py:814: RuntimeWarning: invalid value encountered in less\n",
      "  return umath.less(x, self.critical_value)\n",
      "/nerc/packages/anaconda/4.1.0/lib/python2.7/site-packages/gsw/gibbs/library.py:899: RuntimeWarning: invalid value encountered in greater\n",
      "  nonzero_SA = np.any(SA > 0)\n",
      "/nerc/packages/anaconda/4.1.0/lib/python2.7/site-packages/gsw/gibbs/water_column_48.py:232: RuntimeWarning: divide by zero encountered in true_divide\n",
      "  N2 = (grav_mid ** 2 / db2Pascal) * (rho_mid / dp)\n",
      "/noc/users/jc3e13/emapex/emapex.py:517: RuntimeWarning: divide by zero encountered in divide\n",
      "  self.Ri = N2ef/(self.dUdz**2 + self.dVdz**2)\n"
     ]
    },
    {
     "name": "stdout",
     "output_type": "stream",
     "text": [
      "\n",
      "Updating half profiles.\n",
      "\n",
      "Could not calculate neutral density because pygamman \n",
      "package could not be imported.\n"
     ]
    }
   ],
   "source": [
    "import numpy as np\n",
    "import scipy as sp\n",
    "import matplotlib\n",
    "import matplotlib.pyplot as plt\n",
    "import glob\n",
    "import os\n",
    "import sandwell\n",
    "import emapex\n",
    "from my_savefig import my_savefig\n",
    "import gravity_waves as gw\n",
    "\n",
    "Float = emapex.load(4977, apply_w=False,\n",
    "    apply_strain=False, apply_iso=False, post_process=True,\n",
    "    neutral_density=False, regrid=False, verbose=False)\n",
    "\n",
    "# Bathymetry file path.\n",
    "bf = os.path.abspath(glob.glob('/noc/users/jc3e13/storage/smith_sandwell/topo_*.img')[0])\n",
    "# Figure save path.\n",
    "sdir = '../figures/wave_generation_analysis'\n",
    "if not os.path.exists(sdir):\n",
    "    os.makedirs(sdir)\n",
    "# Universal figure font size.\n",
    "matplotlib.rc('font', **{'size': 8})"
   ]
  },
  {
   "cell_type": "code",
   "execution_count": 15,
   "metadata": {
    "collapsed": false
   },
   "outputs": [],
   "source": [
    "def w_model(params, data):\n",
    "\n",
    "    phi_0, X, Y, Z, phase_0 = params\n",
    "\n",
    "    time, x, y, z, U, V, N, f = data\n",
    "\n",
    "    k = 2*np.pi/X\n",
    "    l = 2*np.pi/Y\n",
    "    m = 2*np.pi/Z\n",
    "\n",
    "    om = gw.omega(N, k, m, l, f)\n",
    "\n",
    "    w = gw.w(x, y, z, time, phi_0, k, l, m, om, N, U=U, V=V, phase_0=phase_0)\n",
    "\n",
    "    return w\n",
    "\n",
    "x = np.linspace(5000., 15000., 50)\n",
    "z = np.linspace(-1500, -500, 50)\n",
    "xg, zg = np.meshgrid(x, z)\n",
    "xg_km = xg/1000.\n",
    "y = 0.\n",
    "t = 0.\n",
    "U = 0.\n",
    "V = 0.\n",
    "N = 2.2e-3\n",
    "f = 1e-4\n",
    "\n",
    "phi_0 = 0.03\n",
    "X = 4000.\n",
    "Y = 1000.\n",
    "Z = 1000.\n",
    "phase_0 = 0.\n",
    "\n",
    "wg = w_model((phi_0, X, Y, Z, phase_0), (t, xg, y, zg, U, V, N, f))"
   ]
  },
  {
   "cell_type": "code",
   "execution_count": 16,
   "metadata": {
    "collapsed": false
   },
   "outputs": [],
   "source": [
    "hpids = np.arange(19, 35) \n",
    "\n",
    "__, idxs = Float.get_profiles(hpids, ret_idxs=True)\n",
    "\n",
    "z = Float.z[:, idxs].flatten(order='F')\n",
    "d = Float.dist_ctd[:, idxs].flatten(order='F')\n",
    "tgps = Float.UTC_start[idxs]\n",
    "lon = Float.lon_start[idxs]\n",
    "lat = Float.lat_start[idxs]\n",
    "tctd = Float.UTC[:, idxs].flatten(order='F')\n",
    "nans = np.isnan(d) | np.isnan(tctd)\n",
    "tctd = tctd[~nans]\n",
    "dctd = d[~nans]\n",
    "lonctd = np.interp(tctd, tgps, lon)\n",
    "latctd = np.interp(tctd, tgps, lat)\n",
    "bathy = sandwell.interp_track(lonctd, latctd, bf)\n",
    "\n",
    "d -= dctd[bathy.argmax()]\n",
    "\n",
    "nans = np.isnan(d)\n",
    "\n",
    "dctd -= dctd[bathy.argmax()]\n",
    "\n",
    "fig = plt.figure(figsize=(3.125, 3))\n",
    "plt.fill_between(dctd[::50], bathy[::50], np.nanmin(bathy), color='black',\n",
    "                 linewidth=2)\n",
    "plt.pcolormesh(xg_km, zg, wg, cmap=plt.get_cmap('bwr'))\n",
    "plt.plot(d, z, color='grey', linewidth=3)\n",
    "\n",
    "plt.xlabel('Distance from ridge top (km)', labelpad=0.06)\n",
    "plt.ylabel('$z$ (m)')\n",
    "plt.ylim(-3500., 0.)\n",
    "plt.xlim(-5., 25.)\n",
    "\n",
    "my_savefig(fig, 'summary_w_section', sdir, ftype=('png'), fsize='single_col')"
   ]
  },
  {
   "cell_type": "code",
   "execution_count": null,
   "metadata": {
    "collapsed": true
   },
   "outputs": [],
   "source": []
  }
 ],
 "metadata": {
  "kernelspec": {
   "display_name": "Python 2",
   "language": "python",
   "name": "python2"
  },
  "language_info": {
   "codemirror_mode": {
    "name": "ipython",
    "version": 2
   },
   "file_extension": ".py",
   "mimetype": "text/x-python",
   "name": "python",
   "nbconvert_exporter": "python",
   "pygments_lexer": "ipython2",
   "version": "2.7.11"
  }
 },
 "nbformat": 4,
 "nbformat_minor": 0
}
